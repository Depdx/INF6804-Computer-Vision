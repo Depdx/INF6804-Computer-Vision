{
 "cells": [
  {
   "cell_type": "code",
   "execution_count": 20,
   "metadata": {},
   "outputs": [
    {
     "data": {
      "text/plain": [
       "array([[114, 114, 113, ...,  98,  98,  98],\n",
       "       [119, 118, 117, ...,  98,  98,  98],\n",
       "       [123, 122, 120, ...,  97,  97,  97],\n",
       "       ...,\n",
       "       [ 27,  18,  30, ...,  32,  27,  62],\n",
       "       [ 21,  11,  25, ...,  43,  46,  98],\n",
       "       [ 16,  16,  21, ...,  33, 115, 134]], dtype=uint8)"
      ]
     },
     "execution_count": 20,
     "metadata": {},
     "output_type": "execute_result"
    }
   ],
   "source": [
    "import skimage\n",
    "\n",
    "image = skimage.io.imread(\"./data/database/ball_1.jpg\")\n",
    "\n",
    "image = skimage.color.rgb2gray(image)\n",
    "image = skimage.img_as_ubyte(image)\n",
    "image"
   ]
  },
  {
   "cell_type": "code",
   "execution_count": 21,
   "metadata": {},
   "outputs": [
    {
     "data": {
      "text/plain": [
       "array([[  0,   0,   0, ...,   0,   0,   1],\n",
       "       [  1,   1,   0, ...,   0,   1,   0],\n",
       "       [  0,   0,   0, ...,   0,   0,   0],\n",
       "       ...,\n",
       "       [  0,   0,   0, ..., 196,  38,   4],\n",
       "       [  0,   0,   0, ...,  48, 314,  13],\n",
       "       [  0,   0,   0, ...,   3,  17,  45]], dtype=uint32)"
      ]
     },
     "execution_count": 21,
     "metadata": {},
     "output_type": "execute_result"
    }
   ],
   "source": [
    "co_occurrence_matrix = skimage.feature.graycomatrix(\n",
    "    image=image,\n",
    "    distances=[1],\n",
    "    angles=[0],\n",
    "    levels=256,\n",
    "    symmetric=False,\n",
    "    normed=False,\n",
    ").squeeze()\n",
    "co_occurrence_matrix"
   ]
  },
  {
   "cell_type": "code",
   "execution_count": 22,
   "metadata": {},
   "outputs": [
    {
     "data": {
      "text/plain": [
       "array([[193., 240., 241., ..., 241., 241., 112.],\n",
       "       [192., 240., 240., ...,  31.,  31.,  28.],\n",
       "       [ 64., 112., 240., ..., 255., 255., 124.],\n",
       "       ...,\n",
       "       [  4., 191.,   0., ..., 206., 255.,  68.],\n",
       "       [  4., 255.,   4., ..., 129., 227.,  96.],\n",
       "       [  5.,  27.,   4., ...,  31.,   1.,   0.]])"
      ]
     },
     "execution_count": 22,
     "metadata": {},
     "output_type": "execute_result"
    }
   ],
   "source": [
    "local_binary_patterns = skimage.feature.local_binary_pattern(\n",
    "    image=image,\n",
    "    P=8,\n",
    "    R=1,\n",
    "    method=\"default\",\n",
    ")\n",
    "local_binary_patterns"
   ]
  }
 ],
 "metadata": {
  "kernelspec": {
   "display_name": "venv",
   "language": "python",
   "name": "python3"
  },
  "language_info": {
   "codemirror_mode": {
    "name": "ipython",
    "version": 3
   },
   "file_extension": ".py",
   "mimetype": "text/x-python",
   "name": "python",
   "nbconvert_exporter": "python",
   "pygments_lexer": "ipython3",
   "version": "3.12.1"
  }
 },
 "nbformat": 4,
 "nbformat_minor": 2
}
